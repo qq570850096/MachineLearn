{
 "cells": [
  {
   "cell_type": "markdown",
   "metadata": {},
   "source": [
    "# L1与L2弹性网络"
   ]
  },
  {
   "cell_type": "markdown",
   "metadata": {},
   "source": [
    "## 回顾岭回归和套索回归\n",
    "<font size=5>\n",
    "    \n",
    "$$J(\\theta)=MSE(y,\\hat{y};\\theta)+\\alpha\\frac{1}{2}\\sum_{i=1}^{n}{\\theta_i^2}$$\n",
    "$$J(\\theta)=MSE(y,\\hat{y};\\theta)+\\alpha\\sum_{i=1}^{n}{|\\theta_i|}$$\n",
    "\n",
    "## 对比下列公式\n",
    "\n",
    "Ridge：$\\alpha\\frac{1}{2}\\sum_{i=1}^{n}{\\theta_i^2}$\n",
    "\n",
    "LASSO: $\\alpha\\sum_{i=1}^{n}{|\\theta_i|}$\n",
    "\n",
    "MSE: $\\frac1n\\sum_{i=1}^{n}{(y^i - \\hat{y}^i)^2}$\n",
    "\n",
    "MAE: $\\frac1n\\sum_{i=1}^{n}{|y^i - \\hat{y}^i|}$\n",
    "\n",
    "欧拉距离：$\\sqrt[2]{\\sum_{i=1}^{n}{(x_i^1-x_i^2)^2}}$\n",
    "    \n",
    "曼哈顿距离：$\\sum_{i=1}^{n}{|x_i^1-x_i^2|}$\n",
    "    \n",
    "## 回顾明科夫斯基距离\n",
    "$$[\\sum_{i=1}^{n}{|(x_i^a-x_i^b)|^p}]^{\\frac1p}$$\n",
    "对明科夫斯基距离再一次抽象可以得到\n",
    "$$||x||_p = [\\sum_{i=1}^{n}{|x_i|^p}]^{\\frac1p}\\quad\\text{Lp范数}$$\n",
    "    \n",
    "虽然2以上的正则很少使用，但是L0正则呢？\n",
    "$$J(\\theta) = MSE(y,\\hat{y};\\theta) + min(number-of-non-zero-\\theta)$$\n",
    "实际使用中我们使用L1代替L0正则项，因为L0正则项是一个NP问题\n",
    "    \n",
    "## 弹性网 Elastic Net\n",
    "$$J(\\theta) = MSE(y,\\hat{y};\\theta) + r\\alpha\\sum_{i=1}^{n}{|\\theta_i|} + \\frac{1-r}{2}\\alpha\\sum_{i=1}^{n}{\\theta^2}$$"
   ]
  },
  {
   "cell_type": "code",
   "execution_count": null,
   "metadata": {},
   "outputs": [],
   "source": []
  }
 ],
 "metadata": {
  "kernelspec": {
   "display_name": "Python 3",
   "language": "python",
   "name": "python3"
  },
  "language_info": {
   "codemirror_mode": {
    "name": "ipython",
    "version": 3
   },
   "file_extension": ".py",
   "mimetype": "text/x-python",
   "name": "python",
   "nbconvert_exporter": "python",
   "pygments_lexer": "ipython3",
   "version": "3.6.8"
  }
 },
 "nbformat": 4,
 "nbformat_minor": 2
}
