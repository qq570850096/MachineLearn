{
 "cells": [
  {
   "cell_type": "markdown",
   "metadata": {},
   "source": [
    "# 测试数据的意义\n",
    "![过拟合](data:image/png;base64,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)\n",
    "过拟合图形\n",
    "\n",
    "- 问题：针对测试数据出现了过拟合？\n",
    "![验证数据集](https://upload-images.jianshu.io/upload_images/4550574-62d70bbf948a1672.png?imageMogr2/auto-orient/strip%7CimageView2/2/w/584/format/webp)"
   ]
  },
  {
   "cell_type": "markdown",
   "metadata": {},
   "source": [
    "我们把测试数据集和训练数据集分开，再从训练数据集中继续分割一块作为验证数据集\n",
    "此时有\n",
    "- 验证数据集只作为调整超参数的数据集\n",
    "- 测试数据集作为最终衡量模型性能的标准不参与模型的训练过程"
   ]
  },
  {
   "cell_type": "code",
   "execution_count": 4,
   "metadata": {},
   "outputs": [],
   "source": [
    "from sklearn.datasets import load_digits\n",
    "from sklearn.model_selection import GridSearchCV\n",
    "import numpy as np\n",
    "import matplotlib.pyplot as plt\n",
    "from sklearn.neighbors import KNeighborsClassifier"
   ]
  },
  {
   "cell_type": "code",
   "execution_count": 5,
   "metadata": {},
   "outputs": [],
   "source": [
    "digits = load_digits()\n",
    "X = digits.data\n",
    "y = digits.target"
   ]
  },
  {
   "cell_type": "code",
   "execution_count": 6,
   "metadata": {},
   "outputs": [
    {
     "data": {
      "text/plain": [
       "(1797, 64)"
      ]
     },
     "execution_count": 6,
     "metadata": {},
     "output_type": "execute_result"
    }
   ],
   "source": [
    "X.shape"
   ]
  },
  {
   "cell_type": "code",
   "execution_count": 8,
   "metadata": {},
   "outputs": [],
   "source": [
    "from sklearn.model_selection import train_test_split\n",
    "\n",
    "X_train,X_test,y_train,y_test = train_test_split(X,y,test_size = 0.4)"
   ]
  },
  {
   "cell_type": "code",
   "execution_count": 18,
   "metadata": {},
   "outputs": [
    {
     "name": "stdout",
     "output_type": "stream",
     "text": [
      "best_k=5\n",
      "best_p=2\n",
      "best_score=0.986667\n"
     ]
    }
   ],
   "source": [
    "best_score,best_p,best_k = 0,0,0\n",
    "\n",
    "for i in range(2,6):\n",
    "    for j in range (1,11):\n",
    "        knn_clf = KNeighborsClassifier(weights=\"distance\",n_neighbors=i,p=j)\n",
    "        knn_clf.fit(X_train,y_train)\n",
    "        score=knn_clf.score(X_test,y_test)\n",
    "        \n",
    "        if(score>best_score):\n",
    "            best_k,best_p,best_score=i,j,score\n",
    "            \n",
    "print(\"best_k=%d\"%best_k)\n",
    "print(\"best_p=%d\"%best_p)\n",
    "print(\"best_score=%lf\"%best_score)"
   ]
  },
  {
   "cell_type": "code",
   "execution_count": 19,
   "metadata": {},
   "outputs": [
    {
     "name": "stderr",
     "output_type": "stream",
     "text": [
      "/root/jupyter/lib/python3.6/site-packages/sklearn/model_selection/_split.py:1978: FutureWarning: The default value of cv will change from 3 to 5 in version 0.22. Specify it explicitly to silence this warning.\n",
      "  warnings.warn(CV_WARNING, FutureWarning)\n"
     ]
    },
    {
     "data": {
      "text/plain": [
       "array([0.98896247, 0.98210291, 0.98210291])"
      ]
     },
     "execution_count": 19,
     "metadata": {},
     "output_type": "execute_result"
    }
   ],
   "source": [
    "from sklearn.model_selection import cross_val_score\n",
    "\n",
    "clf = KNeighborsClassifier()\n",
    "cross_val_score(clf,X_train,y_train)"
   ]
  },
  {
   "cell_type": "code",
   "execution_count": 20,
   "metadata": {},
   "outputs": [
    {
     "name": "stderr",
     "output_type": "stream",
     "text": [
      "/root/jupyter/lib/python3.6/site-packages/sklearn/model_selection/_split.py:1978: FutureWarning: The default value of cv will change from 3 to 5 in version 0.22. Specify it explicitly to silence this warning.\n",
      "  warnings.warn(CV_WARNING, FutureWarning)\n",
      "/root/jupyter/lib/python3.6/site-packages/sklearn/model_selection/_split.py:1978: FutureWarning: The default value of cv will change from 3 to 5 in version 0.22. Specify it explicitly to silence this warning.\n",
      "  warnings.warn(CV_WARNING, FutureWarning)\n",
      "/root/jupyter/lib/python3.6/site-packages/sklearn/model_selection/_split.py:1978: FutureWarning: The default value of cv will change from 3 to 5 in version 0.22. Specify it explicitly to silence this warning.\n",
      "  warnings.warn(CV_WARNING, FutureWarning)\n",
      "/root/jupyter/lib/python3.6/site-packages/sklearn/model_selection/_split.py:1978: FutureWarning: The default value of cv will change from 3 to 5 in version 0.22. Specify it explicitly to silence this warning.\n",
      "  warnings.warn(CV_WARNING, FutureWarning)\n",
      "/root/jupyter/lib/python3.6/site-packages/sklearn/model_selection/_split.py:1978: FutureWarning: The default value of cv will change from 3 to 5 in version 0.22. Specify it explicitly to silence this warning.\n",
      "  warnings.warn(CV_WARNING, FutureWarning)\n",
      "/root/jupyter/lib/python3.6/site-packages/sklearn/model_selection/_split.py:1978: FutureWarning: The default value of cv will change from 3 to 5 in version 0.22. Specify it explicitly to silence this warning.\n",
      "  warnings.warn(CV_WARNING, FutureWarning)\n",
      "/root/jupyter/lib/python3.6/site-packages/sklearn/model_selection/_split.py:1978: FutureWarning: The default value of cv will change from 3 to 5 in version 0.22. Specify it explicitly to silence this warning.\n",
      "  warnings.warn(CV_WARNING, FutureWarning)\n",
      "/root/jupyter/lib/python3.6/site-packages/sklearn/model_selection/_split.py:1978: FutureWarning: The default value of cv will change from 3 to 5 in version 0.22. Specify it explicitly to silence this warning.\n",
      "  warnings.warn(CV_WARNING, FutureWarning)\n",
      "/root/jupyter/lib/python3.6/site-packages/sklearn/model_selection/_split.py:1978: FutureWarning: The default value of cv will change from 3 to 5 in version 0.22. Specify it explicitly to silence this warning.\n",
      "  warnings.warn(CV_WARNING, FutureWarning)\n",
      "/root/jupyter/lib/python3.6/site-packages/sklearn/model_selection/_split.py:1978: FutureWarning: The default value of cv will change from 3 to 5 in version 0.22. Specify it explicitly to silence this warning.\n",
      "  warnings.warn(CV_WARNING, FutureWarning)\n",
      "/root/jupyter/lib/python3.6/site-packages/sklearn/model_selection/_split.py:1978: FutureWarning: The default value of cv will change from 3 to 5 in version 0.22. Specify it explicitly to silence this warning.\n",
      "  warnings.warn(CV_WARNING, FutureWarning)\n",
      "/root/jupyter/lib/python3.6/site-packages/sklearn/model_selection/_split.py:1978: FutureWarning: The default value of cv will change from 3 to 5 in version 0.22. Specify it explicitly to silence this warning.\n",
      "  warnings.warn(CV_WARNING, FutureWarning)\n",
      "/root/jupyter/lib/python3.6/site-packages/sklearn/model_selection/_split.py:1978: FutureWarning: The default value of cv will change from 3 to 5 in version 0.22. Specify it explicitly to silence this warning.\n",
      "  warnings.warn(CV_WARNING, FutureWarning)\n",
      "/root/jupyter/lib/python3.6/site-packages/sklearn/model_selection/_split.py:1978: FutureWarning: The default value of cv will change from 3 to 5 in version 0.22. Specify it explicitly to silence this warning.\n",
      "  warnings.warn(CV_WARNING, FutureWarning)\n",
      "/root/jupyter/lib/python3.6/site-packages/sklearn/model_selection/_split.py:1978: FutureWarning: The default value of cv will change from 3 to 5 in version 0.22. Specify it explicitly to silence this warning.\n",
      "  warnings.warn(CV_WARNING, FutureWarning)\n",
      "/root/jupyter/lib/python3.6/site-packages/sklearn/model_selection/_split.py:1978: FutureWarning: The default value of cv will change from 3 to 5 in version 0.22. Specify it explicitly to silence this warning.\n",
      "  warnings.warn(CV_WARNING, FutureWarning)\n",
      "/root/jupyter/lib/python3.6/site-packages/sklearn/model_selection/_split.py:1978: FutureWarning: The default value of cv will change from 3 to 5 in version 0.22. Specify it explicitly to silence this warning.\n",
      "  warnings.warn(CV_WARNING, FutureWarning)\n",
      "/root/jupyter/lib/python3.6/site-packages/sklearn/model_selection/_split.py:1978: FutureWarning: The default value of cv will change from 3 to 5 in version 0.22. Specify it explicitly to silence this warning.\n",
      "  warnings.warn(CV_WARNING, FutureWarning)\n",
      "/root/jupyter/lib/python3.6/site-packages/sklearn/model_selection/_split.py:1978: FutureWarning: The default value of cv will change from 3 to 5 in version 0.22. Specify it explicitly to silence this warning.\n",
      "  warnings.warn(CV_WARNING, FutureWarning)\n",
      "/root/jupyter/lib/python3.6/site-packages/sklearn/model_selection/_split.py:1978: FutureWarning: The default value of cv will change from 3 to 5 in version 0.22. Specify it explicitly to silence this warning.\n",
      "  warnings.warn(CV_WARNING, FutureWarning)\n",
      "/root/jupyter/lib/python3.6/site-packages/sklearn/model_selection/_split.py:1978: FutureWarning: The default value of cv will change from 3 to 5 in version 0.22. Specify it explicitly to silence this warning.\n",
      "  warnings.warn(CV_WARNING, FutureWarning)\n",
      "/root/jupyter/lib/python3.6/site-packages/sklearn/model_selection/_split.py:1978: FutureWarning: The default value of cv will change from 3 to 5 in version 0.22. Specify it explicitly to silence this warning.\n",
      "  warnings.warn(CV_WARNING, FutureWarning)\n",
      "/root/jupyter/lib/python3.6/site-packages/sklearn/model_selection/_split.py:1978: FutureWarning: The default value of cv will change from 3 to 5 in version 0.22. Specify it explicitly to silence this warning.\n",
      "  warnings.warn(CV_WARNING, FutureWarning)\n",
      "/root/jupyter/lib/python3.6/site-packages/sklearn/model_selection/_split.py:1978: FutureWarning: The default value of cv will change from 3 to 5 in version 0.22. Specify it explicitly to silence this warning.\n",
      "  warnings.warn(CV_WARNING, FutureWarning)\n",
      "/root/jupyter/lib/python3.6/site-packages/sklearn/model_selection/_split.py:1978: FutureWarning: The default value of cv will change from 3 to 5 in version 0.22. Specify it explicitly to silence this warning.\n",
      "  warnings.warn(CV_WARNING, FutureWarning)\n",
      "/root/jupyter/lib/python3.6/site-packages/sklearn/model_selection/_split.py:1978: FutureWarning: The default value of cv will change from 3 to 5 in version 0.22. Specify it explicitly to silence this warning.\n",
      "  warnings.warn(CV_WARNING, FutureWarning)\n",
      "/root/jupyter/lib/python3.6/site-packages/sklearn/model_selection/_split.py:1978: FutureWarning: The default value of cv will change from 3 to 5 in version 0.22. Specify it explicitly to silence this warning.\n",
      "  warnings.warn(CV_WARNING, FutureWarning)\n",
      "/root/jupyter/lib/python3.6/site-packages/sklearn/model_selection/_split.py:1978: FutureWarning: The default value of cv will change from 3 to 5 in version 0.22. Specify it explicitly to silence this warning.\n",
      "  warnings.warn(CV_WARNING, FutureWarning)\n",
      "/root/jupyter/lib/python3.6/site-packages/sklearn/model_selection/_split.py:1978: FutureWarning: The default value of cv will change from 3 to 5 in version 0.22. Specify it explicitly to silence this warning.\n",
      "  warnings.warn(CV_WARNING, FutureWarning)\n",
      "/root/jupyter/lib/python3.6/site-packages/sklearn/model_selection/_split.py:1978: FutureWarning: The default value of cv will change from 3 to 5 in version 0.22. Specify it explicitly to silence this warning.\n",
      "  warnings.warn(CV_WARNING, FutureWarning)\n",
      "/root/jupyter/lib/python3.6/site-packages/sklearn/model_selection/_split.py:1978: FutureWarning: The default value of cv will change from 3 to 5 in version 0.22. Specify it explicitly to silence this warning.\n",
      "  warnings.warn(CV_WARNING, FutureWarning)\n",
      "/root/jupyter/lib/python3.6/site-packages/sklearn/model_selection/_split.py:1978: FutureWarning: The default value of cv will change from 3 to 5 in version 0.22. Specify it explicitly to silence this warning.\n",
      "  warnings.warn(CV_WARNING, FutureWarning)\n",
      "/root/jupyter/lib/python3.6/site-packages/sklearn/model_selection/_split.py:1978: FutureWarning: The default value of cv will change from 3 to 5 in version 0.22. Specify it explicitly to silence this warning.\n",
      "  warnings.warn(CV_WARNING, FutureWarning)\n",
      "/root/jupyter/lib/python3.6/site-packages/sklearn/model_selection/_split.py:1978: FutureWarning: The default value of cv will change from 3 to 5 in version 0.22. Specify it explicitly to silence this warning.\n",
      "  warnings.warn(CV_WARNING, FutureWarning)\n",
      "/root/jupyter/lib/python3.6/site-packages/sklearn/model_selection/_split.py:1978: FutureWarning: The default value of cv will change from 3 to 5 in version 0.22. Specify it explicitly to silence this warning.\n",
      "  warnings.warn(CV_WARNING, FutureWarning)\n",
      "/root/jupyter/lib/python3.6/site-packages/sklearn/model_selection/_split.py:1978: FutureWarning: The default value of cv will change from 3 to 5 in version 0.22. Specify it explicitly to silence this warning.\n",
      "  warnings.warn(CV_WARNING, FutureWarning)\n",
      "/root/jupyter/lib/python3.6/site-packages/sklearn/model_selection/_split.py:1978: FutureWarning: The default value of cv will change from 3 to 5 in version 0.22. Specify it explicitly to silence this warning.\n",
      "  warnings.warn(CV_WARNING, FutureWarning)\n",
      "/root/jupyter/lib/python3.6/site-packages/sklearn/model_selection/_split.py:1978: FutureWarning: The default value of cv will change from 3 to 5 in version 0.22. Specify it explicitly to silence this warning.\n",
      "  warnings.warn(CV_WARNING, FutureWarning)\n",
      "/root/jupyter/lib/python3.6/site-packages/sklearn/model_selection/_split.py:1978: FutureWarning: The default value of cv will change from 3 to 5 in version 0.22. Specify it explicitly to silence this warning.\n",
      "  warnings.warn(CV_WARNING, FutureWarning)\n",
      "/root/jupyter/lib/python3.6/site-packages/sklearn/model_selection/_split.py:1978: FutureWarning: The default value of cv will change from 3 to 5 in version 0.22. Specify it explicitly to silence this warning.\n",
      "  warnings.warn(CV_WARNING, FutureWarning)\n"
     ]
    },
    {
     "name": "stdout",
     "output_type": "stream",
     "text": [
      "best_k=5\n",
      "best_p=3\n",
      "best_score=0.986617\n"
     ]
    }
   ],
   "source": [
    "best_score,best_p,best_k = 0,0,0\n",
    "\n",
    "for i in range(2,6):\n",
    "    for j in range (1,11):\n",
    "        knn_clf = KNeighborsClassifier(weights=\"distance\",n_neighbors=i,p=j)\n",
    "        scores = cross_val_score(knn_clf, X_train, y_train)\n",
    "        score=np.mean(scores)\n",
    "        \n",
    "        if(score>best_score):\n",
    "            best_k,best_p,best_score=i,j,score\n",
    "            \n",
    "print(\"best_k=%d\"%best_k)\n",
    "print(\"best_p=%d\"%best_p)\n",
    "print(\"best_score=%lf\"%best_score)"
   ]
  },
  {
   "cell_type": "code",
   "execution_count": null,
   "metadata": {},
   "outputs": [],
   "source": []
  }
 ],
 "metadata": {
  "kernelspec": {
   "display_name": "Python 3",
   "language": "python",
   "name": "python3"
  },
  "language_info": {
   "codemirror_mode": {
    "name": "ipython",
    "version": 3
   },
   "file_extension": ".py",
   "mimetype": "text/x-python",
   "name": "python",
   "nbconvert_exporter": "python",
   "pygments_lexer": "ipython3",
   "version": "3.6.8"
  }
 },
 "nbformat": 4,
 "nbformat_minor": 2
}
