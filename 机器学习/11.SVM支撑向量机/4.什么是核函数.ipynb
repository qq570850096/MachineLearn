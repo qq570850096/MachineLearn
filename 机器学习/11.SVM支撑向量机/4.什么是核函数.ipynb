{
 "cells": [
  {
   "cell_type": "markdown",
   "metadata": {},
   "source": [
    "<font size=5>\n",
    "    \n",
    "# 核函数是什么？\n",
    "    \n",
    "SVM本质上我们是在求下面这个方程组的最优解\n",
    "    \n",
    "$$\\begin{cases} min\\frac{1}{2}||w||^2 +C\\sum_{i=1}^{m}{|\\zeta^i|}\\\\ s.t. y^i(w^Tx^i+b)\\geq1-\\zeta \\quad \\zeta\\geq0 \\end{cases}$$\n",
    "为了方便求解这个最优化问题我们将上式变成这种形式\n",
    "    \n",
    "<img src=\"./images/kernel.jpg\" width = \"50%\">\n",
    "    \n",
    "常见的核函数\n",
    "    \n",
    "<img src=\"./images/kernels.jpg\" width=\"50%\">\n",
    "    \n",
    "[详细链接](https://zhuanlan.zhihu.com/p/37189815)\n",
    "    \n",
    "## 直观理解高斯核函数"
   ]
  },
  {
   "cell_type": "code",
   "execution_count": 1,
   "metadata": {},
   "outputs": [],
   "source": [
    "import numpy as np\n",
    "import matplotlib.pyplot as plt"
   ]
  },
  {
   "cell_type": "code",
   "execution_count": 4,
   "metadata": {},
   "outputs": [
    {
     "data": {
      "text/plain": [
       "array([-4, -3, -2, -1,  0,  1,  2,  3,  4])"
      ]
     },
     "execution_count": 4,
     "metadata": {},
     "output_type": "execute_result"
    }
   ],
   "source": [
    "x = np.arange(-4,5,1)\n",
    "x"
   ]
  },
  {
   "cell_type": "code",
   "execution_count": 8,
   "metadata": {},
   "outputs": [
    {
     "data": {
      "text/plain": [
       "array([0, 0, 1, 1, 1, 1, 1, 0, 0])"
      ]
     },
     "execution_count": 8,
     "metadata": {},
     "output_type": "execute_result"
    }
   ],
   "source": [
    "y = np.array((x>=-2) & (x<=2),dtype='int')\n",
    "y"
   ]
  },
  {
   "cell_type": "code",
   "execution_count": 23,
   "metadata": {},
   "outputs": [
    {
     "data": {
      "text/plain": [
       "<matplotlib.collections.PathCollection at 0x7f76ca995048>"
      ]
     },
     "execution_count": 23,
     "metadata": {},
     "output_type": "execute_result"
    },
    {
     "data": {
      "image/png": "[encoded data removed]",
      "text/plain": [
       "<Figure size 432x288 with 1 Axes>"
      ]
     },
     "metadata": {
      "needs_background": "light"
     },
     "output_type": "display_data"
    }
   ],
   "source": [
    "plt.scatter(x[y==0],[0]*len(x[y==0]))\n",
    "plt.scatter(x[y==1],[0]*len(x[y==1]))"
   ]
  },
  {
   "cell_type": "code",
   "execution_count": 12,
   "metadata": {},
   "outputs": [],
   "source": [
    "def gaussian(x,l):\n",
    "    gamma=1.0\n",
    "    return np.exp(-gamma*(x-l)**2)"
   ]
  },
  {
   "cell_type": "code",
   "execution_count": 20,
   "metadata": {},
   "outputs": [
    {
     "data": {
      "text/plain": [
       "array([[1.23409804e-04, 1.38879439e-11],\n",
       "       [1.83156389e-02, 1.12535175e-07],\n",
       "       [3.67879441e-01, 1.23409804e-04],\n",
       "       [1.00000000e+00, 1.83156389e-02],\n",
       "       [3.67879441e-01, 3.67879441e-01],\n",
       "       [1.83156389e-02, 1.00000000e+00],\n",
       "       [1.23409804e-04, 3.67879441e-01],\n",
       "       [1.12535175e-07, 1.83156389e-02],\n",
       "       [1.38879439e-11, 1.23409804e-04]])"
      ]
     },
     "execution_count": 20,
     "metadata": {},
     "output_type": "execute_result"
    }
   ],
   "source": [
    "l1,l2=-1,1\n",
    "\n",
    "X_new = np.empty((len(x),2))\n",
    "\n",
    "for i, data in enumerate(x):\n",
    "    X_new[i,0] = gaussian(data,l1)\n",
    "    X_new[i,1] = gaussian(data,l2)\n",
    "X_new"
   ]
  },
  {
   "cell_type": "code",
   "execution_count": 21,
   "metadata": {},
   "outputs": [
    {
     "data": {
      "text/plain": [
       "<matplotlib.collections.PathCollection at 0x7f76caf3c470>"
      ]
     },
     "execution_count": 21,
     "metadata": {},
     "output_type": "execute_result"
    },
    {
     "data": {
      "image/png": "[encoded data removed]",
      "text/plain": [
       "<Figure size 432x288 with 1 Axes>"
      ]
     },
     "metadata": {
      "needs_background": "light"
     },
     "output_type": "display_data"
    }
   ],
   "source": [
    "plt.scatter(X_new[y==0,0],X_new[y==0,1])\n",
    "plt.scatter(X_new[y==1,0],X_new[y==1,1])"
   ]
  },
  {
   "cell_type": "code",
   "execution_count": null,
   "metadata": {},
   "outputs": [],
   "source": []
  }
 ],
 "metadata": {
  "kernelspec": {
   "display_name": "Python 3",
   "language": "python",
   "name": "python3"
  },
  "language_info": {
   "codemirror_mode": {
    "name": "ipython",
    "version": 3
   },
   "file_extension": ".py",
   "mimetype": "text/x-python",
   "name": "python",
   "nbconvert_exporter": "python",
   "pygments_lexer": "ipython3",
   "version": "3.6.8"
  }
 },
 "nbformat": 4,
 "nbformat_minor": 2
}
