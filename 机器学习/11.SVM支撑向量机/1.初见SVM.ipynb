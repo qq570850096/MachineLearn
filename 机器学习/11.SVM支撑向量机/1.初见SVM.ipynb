{
 "cells": [
  {
   "cell_type": "markdown",
   "metadata": {},
   "source": [
    "<font size=3>\n",
    "\n",
    "# 支撑向量机（Support Vector Machine）\n",
    "\n",
    "SVM尝试寻找一个最好的决策边界距离两个类别的最近的样本最远\n",
    "\n",
    "![SVM](./images/SVM.jpg)\n",
    "    \n",
    "\n",
    "最近的向量成为支撑向量，SVM最终的目标就是最大化margin\n",
    "    \n",
    "从图中不难看出SVM能解决的问题必须是线性可分的（Hard Margin SVM）\n",
    "    \n",
    "经过对SVM的改造变为Soft Margin SVM可以解决线性不可分的分类问题\n"
   ]
  },
  {
   "cell_type": "markdown",
   "metadata": {},
   "source": [
    "<font size=3>\n",
    "\n",
    "## 回忆解析几何中点到直线的距离\n",
    "$$\\frac{|Ax+By+C|}{\\sqrt{A^2+B^2}}$$\n",
    "扩展到n维空间有$w^Tx+b=0$ w:weight,b:截距\n",
    "$$\\frac{|w^Tx+b|}{||w||} \\quad \\quad ||w||=\\sqrt{w_1^2+w_2^2+\\ldots+w_n^2}$$\n",
    "\n",
    "$$\\begin{cases} \\frac{w^Tx^i+b}{||w||}\\geq{d} \\quad \\forall{y^i}=1 \\\\ \\frac{w^Tx^i+b}{||w||}\\leq{-d} \\quad \\forall{y^i}=-1\\end{cases}$$\n",
    "将d除过去，我们不难发现下面这个式子中分母是一个常数\n",
    "$$\\begin{cases} \\frac{w^Tx^i+b}{||w||d}\\geq{1} \\quad \\forall{y^i}=1 \\\\ \\frac{w^Tx^i+b}{||w||d}\\leq{-1} \\quad \\forall{y^i}=-1\\end{cases}$$\n",
    "所以我们可以将分子的两项分别除以分母常数并命名为$w_d^Tx^i$和$b_d$于是有\n",
    "$$\\begin{cases} w_d^Tx^i+b_d\\geq{1} \\quad \\forall{y^i}=1 \\\\ w_d^Tx^i+b_d\\leq{-1} \\quad \\forall{y^i}\n",
    "=-1 \\end{cases}$$\n",
    "    \n",
    "将$y^i$与$w^Tx^i+b$相乘我们可以得到在任何情况下，有\n",
    "$$y^i(w^Tx^i+b)\\geq{1}$$\n",
    "    \n",
    "    \n",
    "有一个问题：对于支撑向量机，我们要得到的是d最大的情况，现在d根本不在式子中，怎么办？\n",
    "    \n",
    "对于任意一个支撑向量$x^i$，求最大d等价于求$max\\frac{|w^Tx^i+b|}{||w||}$,又因为分子取绝对值，所以都为1，所以我们等价于求$max\\frac{1}{||w||}$,也就等价于求出$\\min||w||$\n",
    "    \n",
    "我们在实际的使用中更加习惯于求出$min\\frac{1}{2}||w||^2$方便求导\n",
    "    \n",
    "最终我们得到的SVM向量机方程就是$min\\frac{1}{2}||w||^2$，不过它有一个限定条件，就是$s.t. \\quad y^i(w^Tx^i+b)\\geq{1}$，也就是说SVM问题是一个有条件的最优化问题"
   ]
  },
  {
   "cell_type": "code",
   "execution_count": null,
   "metadata": {},
   "outputs": [],
   "source": []
  }
 ],
 "metadata": {
  "kernelspec": {
   "display_name": "Python 3",
   "language": "python",
   "name": "python3"
  },
  "language_info": {
   "codemirror_mode": {
    "name": "ipython",
    "version": 3
   },
   "file_extension": ".py",
   "mimetype": "text/x-python",
   "name": "python",
   "nbconvert_exporter": "python",
   "pygments_lexer": "ipython3",
   "version": "3.6.8"
  }
 },
 "nbformat": 4,
 "nbformat_minor": 2
}
