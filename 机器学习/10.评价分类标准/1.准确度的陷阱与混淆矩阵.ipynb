{
 "cells": [
  {
   "cell_type": "markdown",
   "metadata": {
    "slideshow": {
     "slide_type": "slide"
    }
   },
   "source": [
    "<font size=5>\n",
    "\n",
    "# 分类算法的评价\n",
    "分类准确度的问题\n",
    "    \n",
    "一个癌症预测系统，输入体检信息，可以判断是否患有癌症\n",
    "    \n",
    "已知预测准确度：99.8%，那么这个预测系统是否足够好？\n",
    "    \n",
    "假设癌症产生的概率只有0.1%，我们系统预测所有人都是健康，就可以达到99.9%的准确率\n",
    "    \n",
    "对于极度偏斜（Skewed Data）的数据，只使用分类准确度是远远不够的。\n"
   ]
  },
  {
   "cell_type": "markdown",
   "metadata": {},
   "source": [
    "## 使用混淆矩阵做进一步分析 \n",
    "<font size=5>\n",
    "\n",
    "下方的二分类表格，行代表真实值，列代表预测值\n",
    "0-Negative，1-Positive\n",
    "<table font-size=5>\n",
    "    \n",
    "|   /   |   0   |   1   |\n",
    "| ---- | ---- | ---- |\n",
    "|   0   |   预测negative正确，TN   |   预测positive错误，FP   |\n",
    "|   1   |   预测Negative错误，FN   |   预测Positive正确，TP   |\n",
    "\n",
    "\n",
    "|   /   |   0   |   1   |\n",
    "| ---- | ---- | ---- |\n",
    "|   0   |   9978   |   12   |\n",
    "|   1   |   2   |   8   |"
   ]
  },
  {
   "cell_type": "markdown",
   "metadata": {},
   "source": [
    "<font size=5>\n",
    "    \n",
    "## 精准率与召回率\n",
    "精准率：precision = $\\frac{TP}{TP+FP}$\n",
    "    \n",
    "精准率：8/(8+12) = 40%\n",
    "    \n",
    "召回率：recall = $\\frac{TP}{TP+FN}$\n",
    "    \n",
    "召回率：8/(8+2)=80%\n",
    "    \n",
    "> 实际上非常简单，精确率是针对我们预测结果而言的，它表示的是预测为正的样本中有多少是真正的正样本。那么预测为正就有两种可能了，一种就是把正类预测为正类(TP)，另一种就是把负类预测为正类(FP)，也就是而召回率是针对我们原来的样本而言的，它表示的是样本中的正例有多少被预测正确了。那也有两种可能，一种是把原来的正类预测成正类(TP)，另一种就是把原来的正类预测为负类(FN)。\n",
    "而**召回率**是针对我们原来的样本而言的，它表示的是样本中的正例有多少被预测正确了。那也有两种可能，一种是把原来的正类预测成正类(TP)，另一种就是把原来的正类预测为负类(FN)。\n",
    "    \n",
    "> ![精准率与召回率](https://pic1.zhimg.com/80/d701da76199148837cfed83901cea99e_hd.jpg)\n",
    "\n",
    "在信息检索领域，精确率和召回率又被称为查准率和查全率，\n",
    "    \n",
    ">查准率＝检索出的相关信息量 / 检索出的信息总量\n",
    "    \n",
    ">查全率＝检索出的相关信息量 / 系统中的相关信息总量\n",
    "    \n",
    "> 作者：Charles Xiao    \n",
    "> 链接：https://www.zhihu.com/question/19645541/answer/91694636\n",
    "    \n",
    "下面我们来实现混淆矩阵，精准率和召回率"
   ]
  },
  {
   "cell_type": "code",
   "execution_count": 2,
   "metadata": {},
   "outputs": [],
   "source": [
    "import numpy as np\n",
    "from sklearn import datasets"
   ]
  },
  {
   "cell_type": "code",
   "execution_count": 13,
   "metadata": {},
   "outputs": [],
   "source": [
    "digits = datasets.load_digits()\n",
    "X = digits.data\n",
    "y = digits.target.copy()\n",
    "\n",
    "# 将手写数据集分割为9和非9两部分\n",
    "y[digits.target==9] = 1\n",
    "y[digits.target!=9] = 0"
   ]
  },
  {
   "cell_type": "code",
   "execution_count": 14,
   "metadata": {},
   "outputs": [],
   "source": [
    "from sklearn.model_selection import train_test_split\n",
    "\n",
    "X_train,X_test,y_train,y_test = train_test_split(X,y,random_state=666)"
   ]
  },
  {
   "cell_type": "code",
   "execution_count": 16,
   "metadata": {},
   "outputs": [
    {
     "name": "stderr",
     "output_type": "stream",
     "text": [
      "/root/jupyter/lib/python3.6/site-packages/sklearn/linear_model/logistic.py:432: FutureWarning: Default solver will be changed to 'lbfgs' in 0.22. Specify a solver to silence this warning.\n",
      "  FutureWarning)\n"
     ]
    },
    {
     "data": {
      "text/plain": [
       "0.9755555555555555"
      ]
     },
     "execution_count": 16,
     "metadata": {},
     "output_type": "execute_result"
    }
   ],
   "source": [
    "from sklearn.linear_model import LogisticRegression\n",
    "\n",
    "log_reg = LogisticRegression()\n",
    "log_reg.fit(X_train,y_train)\n",
    "log_reg.score(X_test,y_test)"
   ]
  },
  {
   "cell_type": "code",
   "execution_count": 18,
   "metadata": {},
   "outputs": [
    {
     "data": {
      "text/plain": [
       "403"
      ]
     },
     "execution_count": 18,
     "metadata": {},
     "output_type": "execute_result"
    }
   ],
   "source": [
    "y_log_predict = log_reg.predict(X_test)\n",
    "def TN(y_true,y_predit):\n",
    "    assert len(y_true)==len(y_predit)\n",
    "    return np.sum((y_true==0)&(y_predit==0))\n",
    "\n",
    "TN(y_test,y_log_predict)"
   ]
  },
  {
   "cell_type": "code",
   "execution_count": 19,
   "metadata": {},
   "outputs": [
    {
     "data": {
      "text/plain": [
       "2"
      ]
     },
     "execution_count": 19,
     "metadata": {},
     "output_type": "execute_result"
    }
   ],
   "source": [
    "def FP(y_true,y_predit):\n",
    "    assert len(y_true)==len(y_predit)\n",
    "    return np.sum((y_true==0)&(y_predit==1))\n",
    "\n",
    "FP(y_test,y_log_predict)"
   ]
  },
  {
   "cell_type": "code",
   "execution_count": 20,
   "metadata": {},
   "outputs": [
    {
     "data": {
      "text/plain": [
       "9"
      ]
     },
     "execution_count": 20,
     "metadata": {},
     "output_type": "execute_result"
    }
   ],
   "source": [
    "def FN(y_true,y_predit):\n",
    "    assert len(y_true)==len(y_predit)\n",
    "    return np.sum((y_true==1)&(y_predit==0))\n",
    "\n",
    "FN(y_test,y_log_predict)"
   ]
  },
  {
   "cell_type": "code",
   "execution_count": 21,
   "metadata": {},
   "outputs": [
    {
     "data": {
      "text/plain": [
       "36"
      ]
     },
     "execution_count": 21,
     "metadata": {},
     "output_type": "execute_result"
    }
   ],
   "source": [
    "def TP(y_true,y_predit):\n",
    "    assert len(y_true)==len(y_predit)\n",
    "    return np.sum((y_true==1)&(y_predit==1))\n",
    "\n",
    "TP(y_test,y_log_predict)"
   ]
  },
  {
   "cell_type": "code",
   "execution_count": 23,
   "metadata": {},
   "outputs": [
    {
     "data": {
      "text/plain": [
       "array([[403,   2],\n",
       "       [  9,  36]])"
      ]
     },
     "execution_count": 23,
     "metadata": {},
     "output_type": "execute_result"
    }
   ],
   "source": [
    "# 定义混淆矩阵的方法\n",
    "def confusion_matrix(y_true,y_predit):\n",
    "    return np.array([\n",
    "        [TN(y_true,y_predit),FP(y_true,y_predit)],\n",
    "        [FN(y_true,y_predit),TP(y_true,y_predit)]\n",
    "    ])\n",
    "\n",
    "confusion_matrix(y_test,y_log_predict)"
   ]
  },
  {
   "cell_type": "code",
   "execution_count": 25,
   "metadata": {},
   "outputs": [
    {
     "data": {
      "text/plain": [
       "0.9473684210526315"
      ]
     },
     "execution_count": 25,
     "metadata": {},
     "output_type": "execute_result"
    }
   ],
   "source": [
    "def precision_score(y_true,y_predict):\n",
    "    tp = TP(y_true,y_predict)\n",
    "    fp = FP(y_true,y_predict)\n",
    "    try:\n",
    "        return tp / (tp + fp)\n",
    "    except:\n",
    "        return 0.0\n",
    "    \n",
    "precision_score(y_test,y_log_predict)"
   ]
  },
  {
   "cell_type": "code",
   "execution_count": 27,
   "metadata": {},
   "outputs": [
    {
     "data": {
      "text/plain": [
       "0.8"
      ]
     },
     "execution_count": 27,
     "metadata": {},
     "output_type": "execute_result"
    }
   ],
   "source": [
    "def recall_score(y_true,y_predict):\n",
    "    tp = TP(y_true,y_predict)\n",
    "    fn = FN(y_true,y_predict)\n",
    "    try:\n",
    "        return tp / (tp + fn)\n",
    "    except:\n",
    "        return 0.0\n",
    "    \n",
    "recall_score(y_test,y_log_predict)"
   ]
  },
  {
   "cell_type": "markdown",
   "metadata": {},
   "source": [
    "<font size=5>\n",
    "\n",
    "## sklearn中的混淆矩阵，精准率和召回率"
   ]
  },
  {
   "cell_type": "code",
   "execution_count": 29,
   "metadata": {},
   "outputs": [
    {
     "data": {
      "text/plain": [
       "array([[403,   2],\n",
       "       [  9,  36]])"
      ]
     },
     "execution_count": 29,
     "metadata": {},
     "output_type": "execute_result"
    }
   ],
   "source": [
    "from sklearn.metrics import confusion_matrix\n",
    "\n",
    "confusion_matrix(y_test,y_log_predict)"
   ]
  },
  {
   "cell_type": "code",
   "execution_count": 30,
   "metadata": {},
   "outputs": [
    {
     "data": {
      "text/plain": [
       "0.9473684210526315"
      ]
     },
     "execution_count": 30,
     "metadata": {},
     "output_type": "execute_result"
    }
   ],
   "source": [
    "from sklearn.metrics import precision_score\n",
    "\n",
    "precision_score(y_test,y_log_predict)"
   ]
  },
  {
   "cell_type": "code",
   "execution_count": 31,
   "metadata": {},
   "outputs": [
    {
     "data": {
      "text/plain": [
       "0.8"
      ]
     },
     "execution_count": 31,
     "metadata": {},
     "output_type": "execute_result"
    }
   ],
   "source": [
    "from sklearn.metrics import recall_score\n",
    "\n",
    "recall_score(y_test,y_log_predict)"
   ]
  },
  {
   "cell_type": "code",
   "execution_count": null,
   "metadata": {},
   "outputs": [],
   "source": []
  }
 ],
 "metadata": {
  "kernelspec": {
   "display_name": "Python 3",
   "language": "python",
   "name": "python3"
  },
  "language_info": {
   "codemirror_mode": {
    "name": "ipython",
    "version": 3
   },
   "file_extension": ".py",
   "mimetype": "text/x-python",
   "name": "python",
   "nbconvert_exporter": "python",
   "pygments_lexer": "ipython3",
   "version": "3.6.8"
  }
 },
 "nbformat": 4,
 "nbformat_minor": 2
}
