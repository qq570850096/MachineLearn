{
 "cells": [
  {
   "cell_type": "markdown",
   "metadata": {
    "toc-hr-collapsed": false
   },
   "source": [
    "<font size=5>\n",
    "\n",
    "# 逻辑回归：解决分类问题的一种回归\n",
    "\n",
    "回归问题怎么解决分类问题？\n",
    "将样本的特征和样本发生的概率联系起来，概率是一个数->回归\n",
    "\n",
    "$$\\hat{p}=f(x)$$\n",
    "\n",
    "\n",
    "$$\\hat{y} = \\left\\{\n",
    "\\begin{aligned}\n",
    "1, & \\hat{p}\\geq0.5 \\\\\n",
    "0,  & \\hat{p}<0.5\n",
    "\\end{aligned}\n",
    "\\right.\n",
    "$$\n",
    "\n",
    "逻辑回归既可以看作是回归算法，也可以看作是分类算法\n",
    "\n",
    "通常作为分类算法用，只可以解决二分类问题\n",
    "把一般线性回归的值域转为[0,1]使用这个公式$\\hat{p} = \\sigma(\\theta^T\\cdot{x_b})$\n",
    "\n",
    "## Sigmoid函数\n",
    "$$\\sigma(t) = \\frac{1}{1+e^{-t}}$$"
   ]
  },
  {
   "cell_type": "code",
   "execution_count": 1,
   "metadata": {},
   "outputs": [],
   "source": [
    "import numpy as np\n",
    "import matplotlib.pyplot as plt"
   ]
  },
  {
   "cell_type": "code",
   "execution_count": 2,
   "metadata": {},
   "outputs": [],
   "source": [
    "import matplotlib.pyplot as plt\n",
    "def sigmoid(t):\n",
    "    return 1/(1+np.exp(-t))"
   ]
  },
  {
   "cell_type": "code",
   "execution_count": 3,
   "metadata": {},
   "outputs": [
    {
     "data": {
      "text/plain": [
       "[<matplotlib.lines.Line2D at 0x7f4233dcfe80>]"
      ]
     },
     "execution_count": 3,
     "metadata": {},
     "output_type": "execute_result"
    },
    {
     "data": {
      "image/png": "[encoded data removed]",
      "text/plain": [
       "<Figure size 432x288 with 1 Axes>"
      ]
     },
     "metadata": {
      "needs_background": "light"
     },
     "output_type": "display_data"
    }
   ],
   "source": [
    "X = np.linspace(-10,10,500)\n",
    "\n",
    "y = sigmoid(X)\n",
    "\n",
    "plt.plot(X,y)"
   ]
  },
  {
   "cell_type": "markdown",
   "metadata": {
    "slideshow": {
     "slide_type": "notes"
    }
   },
   "source": [
    "<font size=5>\n",
    "\n",
    "$$\\sigma(t) = \\frac{1}{1+e^{-t}}$$\n",
    "\n",
    "t>0 , p>0.5 \n",
    "\n",
    "t<0 , p<0.5\n",
    "\n",
    "$$\\hat{p} = \\sigma(\\theta^T\\cdot{x_b}) = \\frac{1}{1+e^{-\\theta^T\\cdot{x_b}}}$$\n",
    "\n",
    "问题：\n",
    "\n",
    "对于给定的样本数据集X,y我们如何找到参数theta使得用这样的方式可以最大程度获得样本数据集X对应的分类输出y？"
   ]
  },
  {
   "cell_type": "code",
   "execution_count": 6,
   "metadata": {},
   "outputs": [],
   "source": []
  },
  {
   "cell_type": "code",
   "execution_count": 7,
   "metadata": {},
   "outputs": [
    {
     "data": {
      "text/plain": [
       "'2.0.0-alpha0'"
      ]
     },
     "execution_count": 7,
     "metadata": {},
     "output_type": "execute_result"
    }
   ],
   "source": [
    "tf.__version__"
   ]
  },
  {
   "cell_type": "code",
   "execution_count": null,
   "metadata": {},
   "outputs": [],
   "source": []
  }
 ],
 "metadata": {
  "kernelspec": {
   "display_name": "Python 3",
   "language": "python",
   "name": "python3"
  },
  "language_info": {
   "codemirror_mode": {
    "name": "ipython",
    "version": 3
   },
   "file_extension": ".py",
   "mimetype": "text/x-python",
   "name": "python",
   "nbconvert_exporter": "python",
   "pygments_lexer": "ipython3",
   "version": "3.6.8"
  },
  "toc-autonumbering": false,
  "toc-showcode": true,
  "toc-showmarkdowntxt": true,
  "toc-showtags": false
 },
 "nbformat": 4,
 "nbformat_minor": 2
}
