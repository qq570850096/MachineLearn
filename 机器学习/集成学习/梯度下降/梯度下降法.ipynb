{
 "cells": [
  {
   "cell_type": "code",
   "execution_count": 1,
   "metadata": {},
   "outputs": [],
   "source": [
    "import numpy as np\n",
    "import matplotlib.pyplot as plt"
   ]
  },
  {
   "cell_type": "markdown",
   "metadata": {},
   "source": [
    "<font size=3>\n",
    "\n",
    "# 梯度下降法\n",
    "- 不是一个机器学习算法\n",
    "\n",
    "- 是一种基于搜索的最优化方法\n",
    "\n",
    "- 作用：最小化一个损失函数\n",
    "\n",
    "- 梯度上升法：最大化一个效用函数\n",
    "\n"
   ]
  },
  {
   "cell_type": "markdown",
   "metadata": {},
   "source": [
    "<font size=3>\n",
    "\n",
    "$$-\\eta\\frac{dJ}{d\\theta}$$\n",
    "\n",
    "- $\\eta$称为学习率\n",
    "- $\\eta$取值影响获取最优解的速度\n",
    "- $\\eta$取值如果不合适甚至会得不到最优解\n",
    "- $\\eta$是梯度下降法的一个超参数\n",
    "\n",
    "- 并不是所有函数都有唯一的极值点\n",
    "\n",
    "    解决方案：\n",
    "    \n",
    "    - 多次运行，随机化初始点\n",
    "    - 梯度下降法的初始点也是一个超参数\n",
    "    \n",
    "目标,使$\\sum_{i}^{m} {(y^i-\\hat{y}^i)^2}$尽可能小"
   ]
  },
  {
   "cell_type": "markdown",
   "metadata": {},
   "source": [
    "# 模拟梯度下降法"
   ]
  },
  {
   "cell_type": "code",
   "execution_count": 2,
   "metadata": {
    "collapsed": true
   },
   "outputs": [
    {
     "data": {
      "text/plain": [
       "array([-1.  , -0.95, -0.9 , -0.85, -0.8 , -0.75, -0.7 , -0.65, -0.6 ,\n",
       "       -0.55, -0.5 , -0.45, -0.4 , -0.35, -0.3 , -0.25, -0.2 , -0.15,\n",
       "       -0.1 , -0.05,  0.  ,  0.05,  0.1 ,  0.15,  0.2 ,  0.25,  0.3 ,\n",
       "        0.35,  0.4 ,  0.45,  0.5 ,  0.55,  0.6 ,  0.65,  0.7 ,  0.75,\n",
       "        0.8 ,  0.85,  0.9 ,  0.95,  1.  ,  1.05,  1.1 ,  1.15,  1.2 ,\n",
       "        1.25,  1.3 ,  1.35,  1.4 ,  1.45,  1.5 ,  1.55,  1.6 ,  1.65,\n",
       "        1.7 ,  1.75,  1.8 ,  1.85,  1.9 ,  1.95,  2.  ,  2.05,  2.1 ,\n",
       "        2.15,  2.2 ,  2.25,  2.3 ,  2.35,  2.4 ,  2.45,  2.5 ,  2.55,\n",
       "        2.6 ,  2.65,  2.7 ,  2.75,  2.8 ,  2.85,  2.9 ,  2.95,  3.  ,\n",
       "        3.05,  3.1 ,  3.15,  3.2 ,  3.25,  3.3 ,  3.35,  3.4 ,  3.45,\n",
       "        3.5 ,  3.55,  3.6 ,  3.65,  3.7 ,  3.75,  3.8 ,  3.85,  3.9 ,\n",
       "        3.95,  4.  ,  4.05,  4.1 ,  4.15,  4.2 ,  4.25,  4.3 ,  4.35,\n",
       "        4.4 ,  4.45,  4.5 ,  4.55,  4.6 ,  4.65,  4.7 ,  4.75,  4.8 ,\n",
       "        4.85,  4.9 ,  4.95,  5.  ,  5.05,  5.1 ,  5.15,  5.2 ,  5.25,\n",
       "        5.3 ,  5.35,  5.4 ,  5.45,  5.5 ,  5.55,  5.6 ,  5.65,  5.7 ,\n",
       "        5.75,  5.8 ,  5.85,  5.9 ,  5.95,  6.  ])"
      ]
     },
     "execution_count": 2,
     "metadata": {},
     "output_type": "execute_result"
    }
   ],
   "source": [
    "plot_x = np.linspace(-1,6,141)\n",
    "plot_x"
   ]
  },
  {
   "cell_type": "code",
   "execution_count": 3,
   "metadata": {
    "collapsed": true
   },
   "outputs": [
    {
     "data": {
      "text/plain": [
       "array([11.25  , 10.9025, 10.56  , 10.2225,  9.89  ,  9.5625,  9.24  ,\n",
       "        8.9225,  8.61  ,  8.3025,  8.    ,  7.7025,  7.41  ,  7.1225,\n",
       "        6.84  ,  6.5625,  6.29  ,  6.0225,  5.76  ,  5.5025,  5.25  ,\n",
       "        5.0025,  4.76  ,  4.5225,  4.29  ,  4.0625,  3.84  ,  3.6225,\n",
       "        3.41  ,  3.2025,  3.    ,  2.8025,  2.61  ,  2.4225,  2.24  ,\n",
       "        2.0625,  1.89  ,  1.7225,  1.56  ,  1.4025,  1.25  ,  1.1025,\n",
       "        0.96  ,  0.8225,  0.69  ,  0.5625,  0.44  ,  0.3225,  0.21  ,\n",
       "        0.1025,  0.    , -0.0975, -0.19  , -0.2775, -0.36  , -0.4375,\n",
       "       -0.51  , -0.5775, -0.64  , -0.6975, -0.75  , -0.7975, -0.84  ,\n",
       "       -0.8775, -0.91  , -0.9375, -0.96  , -0.9775, -0.99  , -0.9975,\n",
       "       -1.    , -0.9975, -0.99  , -0.9775, -0.96  , -0.9375, -0.91  ,\n",
       "       -0.8775, -0.84  , -0.7975, -0.75  , -0.6975, -0.64  , -0.5775,\n",
       "       -0.51  , -0.4375, -0.36  , -0.2775, -0.19  , -0.0975,  0.    ,\n",
       "        0.1025,  0.21  ,  0.3225,  0.44  ,  0.5625,  0.69  ,  0.8225,\n",
       "        0.96  ,  1.1025,  1.25  ,  1.4025,  1.56  ,  1.7225,  1.89  ,\n",
       "        2.0625,  2.24  ,  2.4225,  2.61  ,  2.8025,  3.    ,  3.2025,\n",
       "        3.41  ,  3.6225,  3.84  ,  4.0625,  4.29  ,  4.5225,  4.76  ,\n",
       "        5.0025,  5.25  ,  5.5025,  5.76  ,  6.0225,  6.29  ,  6.5625,\n",
       "        6.84  ,  7.1225,  7.41  ,  7.7025,  8.    ,  8.3025,  8.61  ,\n",
       "        8.9225,  9.24  ,  9.5625,  9.89  , 10.2225, 10.56  , 10.9025,\n",
       "       11.25  ])"
      ]
     },
     "execution_count": 3,
     "metadata": {},
     "output_type": "execute_result"
    }
   ],
   "source": [
    "plot_y = (plot_x-2.5)**2-1\n",
    "plot_y"
   ]
  },
  {
   "cell_type": "code",
   "execution_count": 4,
   "metadata": {},
   "outputs": [
    {
     "data": {
      "text/plain": [
       "[<matplotlib.lines.Line2D at 0x7fae34fb80b8>]"
      ]
     },
     "execution_count": 4,
     "metadata": {},
     "output_type": "execute_result"
    },
    {
     "data": {
      "image/png": "[encoded data removed]",
      "text/plain": [
       "<Figure size 432x288 with 1 Axes>"
      ]
     },
     "metadata": {
      "needs_background": "light"
     },
     "output_type": "display_data"
    }
   ],
   "source": [
    "plt.plot(plot_x,plot_y)"
   ]
  },
  {
   "cell_type": "code",
   "execution_count": 5,
   "metadata": {},
   "outputs": [],
   "source": [
    "def dJ(theta):\n",
    "    return 2*(theta-2.5)"
   ]
  },
  {
   "cell_type": "code",
   "execution_count": 6,
   "metadata": {},
   "outputs": [],
   "source": [
    "def J(theta):\n",
    "    return (theta-2.5)**2-1"
   ]
  },
  {
   "cell_type": "code",
   "execution_count": 7,
   "metadata": {},
   "outputs": [
    {
     "name": "stdout",
     "output_type": "stream",
     "text": [
      "2.499891109642585\n",
      "-0.99999998814289\n"
     ]
    }
   ],
   "source": [
    "eta=0.1\n",
    "epsilon=1e-8\n",
    "theta=0.0\n",
    "while True:\n",
    "    gradient=dJ(theta)\n",
    "    last_theta=theta\n",
    "    theta = theta-eta*gradient\n",
    "    if(abs(J(theta)-J(last_theta))<epsilon):\n",
    "        break\n",
    "        \n",
    "print(theta)\n",
    "print(J(theta))"
   ]
  },
  {
   "cell_type": "code",
   "execution_count": 8,
   "metadata": {},
   "outputs": [
    {
     "data": {
      "text/plain": [
       "[<matplotlib.lines.Line2D at 0x7fae34f69b70>]"
      ]
     },
     "execution_count": 8,
     "metadata": {},
     "output_type": "execute_result"
    },
    {
     "data": {
      "image/png": "[encoded data removed]",
      "text/plain": [
       "<Figure size 432x288 with 1 Axes>"
      ]
     },
     "metadata": {
      "needs_background": "light"
     },
     "output_type": "display_data"
    }
   ],
   "source": [
    "theta = 0.0\n",
    "theta_history=[theta]\n",
    "while True:\n",
    "    gradient=dJ(theta)\n",
    "    last_theta=theta\n",
    "    theta = theta-eta*gradient\n",
    "    theta_history.append(theta)\n",
    "    if(abs(J(theta)-J(last_theta))<epsilon):\n",
    "        break\n",
    "\n",
    "plt.plot(plot_x,J(plot_x))\n",
    "plt.plot(np.array(theta_history),J(np.array(theta_history)),color='r',marker='+')"
   ]
  },
  {
   "cell_type": "code",
   "execution_count": 9,
   "metadata": {},
   "outputs": [
    {
     "data": {
      "text/plain": [
       "46"
      ]
     },
     "execution_count": 9,
     "metadata": {},
     "output_type": "execute_result"
    }
   ],
   "source": [
    "len(theta_history)"
   ]
  },
  {
   "cell_type": "code",
   "execution_count": 10,
   "metadata": {},
   "outputs": [],
   "source": [
    "def gradient_decent(initial_theta,eta,epslion=1e-8):\n",
    "    theta=initial_theta\n",
    "    theta_history.append(initial_theta)\n",
    "    while True:\n",
    "        gradient=dJ(theta)\n",
    "        last_theta=theta\n",
    "        theta=theta-eta*gradient\n",
    "        theta_history.append(theta)\n",
    "        \n",
    "        if(abs(J(theta)-J(last_theta))<epsilon):\n",
    "            break\n",
    "            \n",
    "def plot_theta_history():\n",
    "    plt.plot(plot_x,J(plot_x))\n",
    "    plt.plot(np.array(theta_history),J(np.array(theta_history)),color='r',marker='*')"
   ]
  },
  {
   "cell_type": "code",
   "execution_count": 11,
   "metadata": {},
   "outputs": [
    {
     "data": {
      "text/plain": [
       "424"
      ]
     },
     "execution_count": 11,
     "metadata": {},
     "output_type": "execute_result"
    },
    {
     "data": {
      "image/png": "[encoded data removed]",
      "text/plain": [
       "<Figure size 432x288 with 1 Axes>"
      ]
     },
     "metadata": {
      "needs_background": "light"
     },
     "output_type": "display_data"
    }
   ],
   "source": [
    "eta=0.01\n",
    "theta_history=[]\n",
    "gradient_decent(0.,eta)\n",
    "plot_theta_history()\n",
    "len(theta_history)"
   ]
  },
  {
   "cell_type": "code",
   "execution_count": 12,
   "metadata": {},
   "outputs": [
    {
     "data": {
      "text/plain": [
       "17"
      ]
     },
     "execution_count": 12,
     "metadata": {},
     "output_type": "execute_result"
    },
    {
     "data": {
      "image/png": "[encoded data removed]",
      "text/plain": [
       "<Figure size 432x288 with 1 Axes>"
      ]
     },
     "metadata": {
      "needs_background": "light"
     },
     "output_type": "display_data"
    }
   ],
   "source": [
    "eta=0.75\n",
    "theta_history=[]\n",
    "gradient_decent(0.,eta)\n",
    "plot_theta_history()\n",
    "len(theta_history)"
   ]
  },
  {
   "cell_type": "code",
   "execution_count": 13,
   "metadata": {},
   "outputs": [],
   "source": [
    "def gradient_decent(initial_theta,eta,n_iters=1e3,epslion=1e-8):\n",
    "    theta=initial_theta\n",
    "    theta_history.append(initial_theta)\n",
    "    i_iter=0\n",
    "    while i_iter<n_iters:\n",
    "        gradient=dJ(theta)\n",
    "        last_theta=theta\n",
    "        theta=theta-eta*gradient\n",
    "        theta_history.append(theta)\n",
    "        \n",
    "        if(abs(J(theta)-J(last_theta))<epsilon):\n",
    "            break\n",
    "        \n",
    "        i_iter+=1"
   ]
  },
  {
   "cell_type": "code",
   "execution_count": 14,
   "metadata": {},
   "outputs": [
    {
     "data": {
      "text/plain": [
       "11"
      ]
     },
     "execution_count": 14,
     "metadata": {},
     "output_type": "execute_result"
    },
    {
     "data": {
      "image/png": "[encoded data removed]",
      "text/plain": [
       "<Figure size 432x288 with 1 Axes>"
      ]
     },
     "metadata": {
      "needs_background": "light"
     },
     "output_type": "display_data"
    }
   ],
   "source": [
    "eta=1.1\n",
    "theta_history=[]\n",
    "gradient_decent(0.,eta,n_iters=10)\n",
    "plot_theta_history()\n",
    "len(theta_history)"
   ]
  },
  {
   "cell_type": "markdown",
   "metadata": {},
   "source": [
    "<font size=3>\n",
    "## 在线性回归中使用梯度下降法\n",
    "\n",
    "目标：使$$\\sum_{i=1}^{m}{(y^i-\\hat{y}^i)^2}$$尽可能小\n",
    "\n",
    "又因为$$\\hat{y}^i=\\theta_0+\\theta_1X_{1}^{i}+\\theta_2X_{2}^{i}+……+\\theta_nX_n^i$$\n",
    "\n",
    "使$$\\sum_{i=1}^{m}{(y^i-\\theta_0-\\theta_1X_{1}^{i}-\\theta_2X_{2}^{i}-……-\\theta_nX_n^i)^2}$$尽可能小\n",
    "\n",
    "$$\n",
    "\\nabla{J}(\\theta)=\\begin{pmatrix} \n",
    "\\frac{\\partial{J}}{\\partial{\\theta_0}}\\\\\n",
    "\\frac{\\partial{J}}{\\partial{\\theta_1}}\\\\\n",
    "\\frac{\\partial{J}}{\\partial{\\theta_2}}\\\\\n",
    "……\\\\\n",
    "\\frac{\\partial{J}}{\\partial{\\theta_n}}\n",
    "\\end{pmatrix} \n",
    "=\\begin{pmatrix}\n",
    "\\sum_{i=1}^{m}{2(y^i-X_b^i\\theta)(-1)}\\\\\n",
    "\\sum_{i=1}^{m}{2(y^i-X_b^i\\theta)(-X_1^i)}\\\\\n",
    "\\sum_{i=1}^{m}{2(y^i-X_b^i\\theta)(-X_2^i)}\\\\\n",
    "……\\\\\n",
    "\\sum_{i=1}^{m}{2(y^i-X_b^i\\theta)(-X_n^i)}\n",
    "\\end{pmatrix}\n",
    "$$\n",
    "\n",
    "为了让结果与数据量无关，我们需要把式子变成这样\n",
    "$$\n",
    "\\nabla{J}(\\theta)=\\frac{2}{m}·\\begin{pmatrix}\n",
    "\\sum_{i=1}^{m}{(y^i-X_b^i\\theta)(-1)}\\\\\n",
    "\\sum_{i=1}^{m}{(y^i-X_b^i\\theta)(-X_1^i)}\\\\\n",
    "\\sum_{i=1}^{m}{(y^i-X_b^i\\theta)(-X_2^i)}\\\\\n",
    "……\\\\\n",
    "\\sum_{i=1}^{m}{(y^i-X_b^i\\theta)(-X_n^i)}\n",
    "\\end{pmatrix}\n",
    "$$\n",
    "\n",
    "不难发现这时J($\\theta$)=2MSE($y^i$,$\\hat{y}^i$)"
   ]
  },
  {
   "cell_type": "markdown",
   "metadata": {},
   "source": [
    "## 在线性回归模型中使用梯度下降法"
   ]
  },
  {
   "cell_type": "code",
   "execution_count": 15,
   "metadata": {},
   "outputs": [],
   "source": [
    "np.random.seed(666)\n",
    "x = 2*np.random.random(size=100)\n",
    "y = x*3.+4.+np.random.normal(size=100)"
   ]
  },
  {
   "cell_type": "code",
   "execution_count": 27,
   "metadata": {},
   "outputs": [
    {
     "data": {
      "text/plain": [
       "(100, 1)"
      ]
     },
     "execution_count": 27,
     "metadata": {},
     "output_type": "execute_result"
    }
   ],
   "source": [
    "X = x.reshape(-1,1)\n",
    "X.shape"
   ]
  },
  {
   "cell_type": "code",
   "execution_count": 17,
   "metadata": {},
   "outputs": [
    {
     "data": {
      "text/plain": [
       "(100,)"
      ]
     },
     "execution_count": 17,
     "metadata": {},
     "output_type": "execute_result"
    }
   ],
   "source": [
    "y.shape"
   ]
  },
  {
   "cell_type": "code",
   "execution_count": 18,
   "metadata": {},
   "outputs": [
    {
     "data": {
      "text/plain": [
       "<matplotlib.collections.PathCollection at 0x7fae34e3e1d0>"
      ]
     },
     "execution_count": 18,
     "metadata": {},
     "output_type": "execute_result"
    },
    {
     "data": {
      "image/png": "[encoded data removed]",
      "text/plain": [
       "<Figure size 432x288 with 1 Axes>"
      ]
     },
     "metadata": {
      "needs_background": "light"
     },
     "output_type": "display_data"
    }
   ],
   "source": [
    "plt.scatter(x,y)"
   ]
  },
  {
   "cell_type": "markdown",
   "metadata": {},
   "source": [
    "<font size=3>\n",
    "## 使用梯度下降法训练\n",
    "\n",
    "$$\n",
    "\\nabla{J}(\\theta)=\\begin{pmatrix} \n",
    "\\frac{\\partial{J}}{\\partial{\\theta_0}}\\\\\n",
    "\\frac{\\partial{J}}{\\partial{\\theta_1}}\\\\\n",
    "\\frac{\\partial{J}}{\\partial{\\theta_2}}\\\\\n",
    "……\\\\\n",
    "\\frac{\\partial{J}}{\\partial{\\theta_n}}\n",
    "\\end{pmatrix} \n",
    "=\\begin{pmatrix}\n",
    "\\sum_{i=1}^{m}{2(y^i-X_b^i\\theta)(-1)}\\\\\n",
    "\\sum_{i=1}^{m}{2(y^i-X_b^i\\theta)(-X_1^i)}\\\\\n",
    "\\sum_{i=1}^{m}{2(y^i-X_b^i\\theta)(-X_2^i)}\\\\\n",
    "……\\\\\n",
    "\\sum_{i=1}^{m}{2(y^i-X_b^i\\theta)(-X_n^i)}\n",
    "\\end{pmatrix}\n",
    "$$\n",
    "\n",
    "为了让结果与数据量无关，我们需要把式子变成这样\n",
    "$$\n",
    "\\nabla{J}(\\theta)=\\frac{2}{m}·\\begin{pmatrix}\n",
    "\\sum_{i=1}^{m}{(y^i-X_b^i\\theta)(-1)}\\\\\n",
    "\\sum_{i=1}^{m}{(y^i-X_b^i\\theta)(-X_1^i)}\\\\\n",
    "\\sum_{i=1}^{m}{(y^i-X_b^i\\theta)(-X_2^i)}\\\\\n",
    "……\\\\\n",
    "\\sum_{i=1}^{m}{(y^i-X_b^i\\theta)(-X_n^i)}\n",
    "\\end{pmatrix}\n",
    "$$"
   ]
  },
  {
   "cell_type": "code",
   "execution_count": 19,
   "metadata": {},
   "outputs": [],
   "source": [
    "def J(theta,X_b,y):\n",
    "    try:\n",
    "        return np.sum((y-X_b.dot(theta))**2)/len(X_b)\n",
    "    except:\n",
    "        return float('inf')"
   ]
  },
  {
   "cell_type": "code",
   "execution_count": 20,
   "metadata": {},
   "outputs": [],
   "source": [
    "def dJ(theta,X_b,y):\n",
    "    res = np.empty(len(theta))\n",
    "    res[0] = np.sum(X_b.dot(theta)-y)\n",
    "    for i in range (1,len(theta)):\n",
    "        res[i]=(X_b.dot(theta)-y).dot(X_b[:,i])\n",
    "    return res*2./len(X_b)"
   ]
  },
  {
   "cell_type": "code",
   "execution_count": 21,
   "metadata": {},
   "outputs": [],
   "source": [
    "def gradient_decent(X_b,y,initial_theta,eta,n_iters=1e3,epslion=1e-8):\n",
    "    \n",
    "    theta=initial_theta\n",
    "    i_iter=0\n",
    "    \n",
    "    while i_iter<n_iters:\n",
    "        gradient=dJ(theta,X_b,y)\n",
    "        last_theta=theta\n",
    "        theta=theta-eta*gradient\n",
    "        \n",
    "        if(abs(J(theta,X_b,y)-J(last_theta,X_b,y))<epsilon):\n",
    "            break\n",
    "        \n",
    "        i_iter+=1\n",
    "    return theta"
   ]
  },
  {
   "cell_type": "code",
   "execution_count": 42,
   "metadata": {},
   "outputs": [],
   "source": [
    "X_b = np.hstack([np.ones((len(X), 1)), X])\n",
    "initial_theta = np.zeros(X_b.shape[1])\n",
    "eta = 0.1\n",
    "\n",
    "theta99=gradient_decent(X_b,y,initial_theta,eta)"
   ]
  },
  {
   "cell_type": "code",
   "execution_count": 43,
   "metadata": {},
   "outputs": [
    {
     "data": {
      "text/plain": [
       "array([4.02302011, 3.00574511])"
      ]
     },
     "execution_count": 43,
     "metadata": {},
     "output_type": "execute_result"
    }
   ],
   "source": [
    "theta99"
   ]
  },
  {
   "cell_type": "code",
   "execution_count": 28,
   "metadata": {},
   "outputs": [],
   "source": [
    "import sys\n",
    "sys.path.append('../')"
   ]
  },
  {
   "cell_type": "code",
   "execution_count": 29,
   "metadata": {},
   "outputs": [],
   "source": [
    "from playMachine.LinearRegression import LinearRegression"
   ]
  },
  {
   "cell_type": "code",
   "execution_count": 30,
   "metadata": {},
   "outputs": [],
   "source": [
    "lin_reg = LinearRegression()"
   ]
  },
  {
   "cell_type": "code",
   "execution_count": 31,
   "metadata": {},
   "outputs": [
    {
     "data": {
      "text/plain": [
       "LinearRegression()"
      ]
     },
     "execution_count": 31,
     "metadata": {},
     "output_type": "execute_result"
    }
   ],
   "source": [
    "lin_reg.fit_gd(X,y)"
   ]
  },
  {
   "cell_type": "code",
   "execution_count": 32,
   "metadata": {},
   "outputs": [
    {
     "data": {
      "text/plain": [
       "array([3.00706277])"
      ]
     },
     "execution_count": 32,
     "metadata": {},
     "output_type": "execute_result"
    }
   ],
   "source": [
    "lin_reg.coef_"
   ]
  },
  {
   "cell_type": "code",
   "execution_count": 33,
   "metadata": {},
   "outputs": [
    {
     "data": {
      "text/plain": [
       "4.021457858204859"
      ]
     },
     "execution_count": 33,
     "metadata": {},
     "output_type": "execute_result"
    }
   ],
   "source": [
    "lin_reg.intercept_"
   ]
  },
  {
   "cell_type": "code",
   "execution_count": null,
   "metadata": {},
   "outputs": [],
   "source": []
  }
 ],
 "metadata": {
  "kernelspec": {
   "display_name": "Python 3",
   "language": "python",
   "name": "python3"
  },
  "language_info": {
   "codemirror_mode": {
    "name": "ipython",
    "version": 3
   },
   "file_extension": ".py",
   "mimetype": "text/x-python",
   "name": "python",
   "nbconvert_exporter": "python",
   "pygments_lexer": "ipython3",
   "version": "3.6.8"
  }
 },
 "nbformat": 4,
 "nbformat_minor": 2
}
